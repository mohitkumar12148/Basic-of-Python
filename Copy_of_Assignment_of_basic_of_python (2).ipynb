{
  "nbformat": 4,
  "nbformat_minor": 0,
  "metadata": {
    "colab": {
      "provenance": []
    },
    "kernelspec": {
      "name": "python3",
      "display_name": "Python 3"
    },
    "language_info": {
      "name": "python"
    }
  },
  "cells": [
    {
      "cell_type": "markdown",
      "source": [
        "1. What is python,and why is it popular?\n",
        "\n",
        "Ans. python is programming language that is easy to understand and write. making it popular choice among developers and programmer.\n",
        ". it is compatible with various programming paradigms,such as procedural,object-oriented, and functional progamming.\n",
        ". python has a large and active community of developers, an extensive library,and various domains.\n",
        "\n",
        "2. What is an interpreter in python?\n",
        "\n",
        "Ans. An interpreter translate and execute a source code line by line as the code runs.interpreter is slower execution because it translate each line on the fly.\n",
        ". interpreter is easy to debug as it stops at the first error encounter.\n",
        "\n",
        "3. What are pre-defined keywords in python?\n",
        "\n",
        "Ans. pre-defined Keywords are reserved words in python that have special meanings and cannot be used as identifiers .\n",
        "\n",
        "4. Can keywords be used as variable names?\n",
        "\n",
        "Ans. NO,keywords cannot be used as variable names.keywords are reserved words in a programming language that have predefined meaning and are used to define the language's syntax and structure.\n",
        "\n",
        "5. What is mutability in python?\n",
        "\n",
        "Ans. in python object can be either changeable or unchangeable.mutable object such as list and dictionaries can be modified after creation.\n",
        "\n",
        "6. Why are list mutable,but tuples are immutable?\n",
        "\n",
        "Ans. List mutable\n",
        "Lists are designed for situations where the collection of items needs to be dynamic. This means elements can be added, removed, or modified after the list's creation.\n",
        "Their mutability allows for efficient in-place modifications without creating new objects, which can be advantageous for performance when dealing with frequently changing data.\n",
        "\n",
        ".Tuples immutable\n",
        "Tuples are intended for representing fixed collections of items where the sequence and content are meant to remain constant throughout their lifetime.\n",
        "This immutability provides a guarantee that once a tuple is created, its elements will not be altered, which can be beneficial for data integrity and for use cases like dictionary keys (where hashability is required).\n",
        "\n",
        "7.What is difference between\"==\" and \"is\" operators in python?\n",
        "\n",
        "Ans. == (Equality Operator): This operator compares the values of two objects. It checks if the content or data stored within the objects are the same. When a == b is evaluated, Python essentially calls the __eq__ method of the left-hand object (a) to determine if its value is equal to the value of the right-hand object (b).\n",
        "\n",
        "is (Identity Operator): This operator checks for identity, meaning it determines if two variables refer to the exact same object in memory. It compares the memory addresses of the objects. If a is b is true, it means a and b are pointing to the identical object in memory. This is equivalent to id(a) == id(b)\n",
        "\n",
        "8. What are logical operator in python?\n",
        "\n",
        "Ans. Logical operators in Python are used to combine conditional statements and evaluate expressions based on their truth values (True or False). They are crucial for creating complex decision-making logic within programs. Python provides three primary logical operators.\n",
        "\n",
        "9. What is type casting in python?\n",
        "\n",
        "Ans. Type casting, also known as type conversion, in Python is the process of converting a value from one data type to another. This is a fundamental concept in programming that allows for flexibility in handling data and performing operations that might require specific data types.\n",
        "\n",
        "10.What is the difference between implicit and explicit type casting ?\n",
        "\n",
        "Ans. implicit casting, or widening, happens automatically when a smaller data type is converted to a larger one, without the programmer needing to specify it.\n",
        "\n",
        "Explicit casting, or narrowing, requires the programmer to explicitly state the desired data type conversion, which may involve potential data loss.\n",
        "\n",
        "11.What is the purpose of conditional statements in Python ?\n",
        "\n",
        "Ans. The purpose of conditional statements in Python is to control the flow of execution in a program based on whether certain conditions are true or false. They enable a program to make decisions and perform different actions depending on various scenarios or inputs.\n",
        "\n",
        "12.How does the elif statement work ?\n",
        "\n",
        "Ans. The elif statement, short for \"else if,\" is a conditional statement used in programming languages like Python to test multiple conditions sequentially. It works in conjunction with an if statement and optionally an else statement to create a chain of checks.\n",
        "\n",
        "13.What is the difference between for and while loops?\n",
        "\n",
        "Ans. For loops complete an iterative action for a defined number of elements, while if statements test a condition and then complete an action.\n",
        "\n",
        "14.Describe a scenario where a while loop is more suitable than a for loop?\n",
        "\n",
        "Ans. A while loop is more suitable than a for loop in scenarios where the number of iterations is not known or predetermined before the loop begins. This contrasts with a for loop, which is typically used when iterating over a sequence of known length or a predefined range.\n"
      ],
      "metadata": {
        "id": "PlNtDX43kcSS"
      }
    },
    {
      "cell_type": "markdown",
      "source": [
        "PRACTICAL QUESTION\n",
        "\n",
        "\n"
      ],
      "metadata": {
        "id": "79AKa5nylyJe"
      }
    },
    {
      "cell_type": "code",
      "source": [
        "print(\"Hello,world\")\n",
        "\n",
        "Q1.  Write a Python program to print \"Hello, World!"
      ],
      "metadata": {
        "id": "1vMz86bBmyaw"
      },
      "execution_count": null,
      "outputs": []
    },
    {
      "cell_type": "code",
      "source": [
        "Q2.Write a Python program that displays your name and age\n",
        "\n",
        "name = \"Mohit Kumar\"\n",
        "age = 25\n",
        "print(f\"my name is {name} and  i am {age} years old.\")"
      ],
      "metadata": {
        "id": "_gMQzqKsolsR"
      },
      "execution_count": null,
      "outputs": []
    },
    {
      "cell_type": "code",
      "source": [
        "Q3.write code to print all the pre-defined keywords in Python using the keyword library\n",
        "\n",
        "import keyword\n",
        "print(keyword.kwlist)"
      ],
      "metadata": {
        "id": "pCcUxbuHrnoC"
      },
      "execution_count": null,
      "outputs": []
    },
    {
      "cell_type": "code",
      "source": [
        "Q4.Write a program that checks if a given word is a Python keyword\n",
        "\n",
        "import keyword\n",
        "\n",
        " check_if_keyword(word):\n",
        "\n",
        "  if keyword.iskeyword(word):\n",
        "    return f\"'{word}' is a Python keyword.\"\n",
        "  else:\n",
        "    return f\"'{word}' is not a Python keyword.\""
      ],
      "metadata": {
        "id": "f4tjumj4sLYS"
      },
      "execution_count": null,
      "outputs": []
    },
    {
      "cell_type": "code",
      "source": [
        "Q5. Create a list and tuple in Python, and demonstrate how attempting to change an element works differently\n",
        "for each.\n",
        "\n",
        "\n",
        "my_list = [10, 20, 30, 40]\n",
        "print(f\"Original list: {my_list}\")\n",
        "my_list[1] = 25\n",
        "print(f\"Modified list: {my_list}\")\n",
        "\n",
        "my_tuple = (100, 200, 300, 400)\n",
        "print(f\"Original tuple: {my_tuple}\")\n",
        "my_tuple[1] = 250\n",
        "except TypeError as e:\n",
        "    print(f\"Error when attempting to modify tuple: {e}\")\n",
        "\n"
      ],
      "metadata": {
        "id": "4teuwcfSs0j3"
      },
      "execution_count": null,
      "outputs": []
    },
    {
      "cell_type": "code",
      "source": [
        "Q6.Write a function to demonstrate the behavior of mutable and immutable arguments\n",
        "\n",
        "\n",
        "tuple1 = (0, 1, 2, 3)\n",
        "tuple1[0] = 4\n",
        "print(tuple1)\n",
        "\n",
        "message = \"Welcome to sasaram\"\n",
        "message[0] = 'p'\n",
        "print(message)"
      ],
      "metadata": {
        "id": "Aco41ANSuCA9"
      },
      "execution_count": null,
      "outputs": []
    },
    {
      "cell_type": "code",
      "source": [
        "Q7.  Write a program that performs basic arithmetic operations on two user-input numbers\n",
        "\n",
        "Enter any two positive integer numbers:\n",
        "5\n",
        "7\n",
        "\n",
        "Addition of       5 + 7 = 12\n",
        "Subtraction of    5 - 7 = -2\n",
        "Multiplication of 5 * 7 = 35\n",
        "Division of       5 / 7 = 0.714286\n",
        "Modulus of        5 % 7 = 5"
      ],
      "metadata": {
        "id": "oNOZpl3gvdPD"
      },
      "execution_count": null,
      "outputs": []
    },
    {
      "cell_type": "code",
      "source": [
        "Q8.  Write a program to demonstrate the use of logical operators\n",
        "\n",
        "a, b, c = True, False, True\n",
        "\n",
        "# AND: Both conditions must be True\n",
        "if a and c:\n",
        "    print(\"Both a and c are True (AND condition).\")\n",
        "\n",
        "# OR: At least one condition must be True\n",
        "if b or c:\n",
        "    print(\"Either b or c is True (OR condition).\")\n",
        "\n",
        "# NOT: Reverses the condition\n",
        "if not b:\n",
        "    print(\"b is False (NOT condition).\")"
      ],
      "metadata": {
        "id": "OG2EUs5vwa9l"
      },
      "execution_count": null,
      "outputs": []
    },
    {
      "cell_type": "code",
      "source": [
        "Q9.Write a Python program to convert user input from string to integer, float, and boolean types\n",
        "\n",
        "user_input = (\"enter a number:\")\n",
        "\n",
        "int_value = int(user_input)\n",
        "float_val = float(user_input)\n",
        "bool_val = bool(int_val)\n",
        "\n",
        "print(\"Integer:\", int_val)\n",
        "print(\"Float:\",float_val)\n",
        "print(\"Boolean:\",bool_val)"
      ],
      "metadata": {
        "id": "rWLEnpMmxeOJ"
      },
      "execution_count": null,
      "outputs": []
    },
    {
      "cell_type": "code",
      "source": [
        "Q10. 0. Write code to demonstrate type casting with list elements.\n",
        "\n",
        "str_list = [\"1\",\"2\",\"3\"]\n",
        "int_list = list(map(int, str_1))\n",
        "print(\"list of integer:\",int_1,1st)"
      ],
      "metadata": {
        "id": "TXFhSO_DzQvT"
      },
      "execution_count": null,
      "outputs": []
    },
    {
      "cell_type": "code",
      "source": [
        "Q11. Write a program that checks if a number is positive, negative, or zero.\n",
        "\n",
        "num = float(input(\"enter a number: \"))\n",
        "if num > 0:\n",
        "  print(\"Positive\")\n",
        "\n",
        "  elif num < 0:\n",
        "    print(\"Negative\")\n",
        "else:\n",
        " print(\"zero\")"
      ],
      "metadata": {
        "id": "nNO0rItp0Px7"
      },
      "execution_count": null,
      "outputs": []
    },
    {
      "cell_type": "code",
      "source": [
        "Q12. Write a for loop to print numbers from 1 to 10.\n",
        "\n",
        "for i in range(1,11):\n",
        "  print(i)"
      ],
      "metadata": {
        "id": "HL8kSCvt1RdR"
      },
      "execution_count": null,
      "outputs": []
    },
    {
      "cell_type": "code",
      "source": [
        "Q13. Write a Python program to find the sum of all even numbers between 1 and 50.\n",
        "\n",
        "total = 0\n",
        "for i in range(1,51):\n",
        "  if i % 2 ==0:\n",
        "    total+= number\n",
        "    print(f\"The sum of all even numbers between 1 and 50 is: {total_sum}\")"
      ],
      "metadata": {
        "id": "xMLkWMdD1qGK"
      },
      "execution_count": null,
      "outputs": []
    },
    {
      "cell_type": "code",
      "source": [
        "Q14.  Write a program to reverse a string using a while loop.\n",
        "\n",
        "s = \"Aarvi\"\n",
        "rev = ''. join (reversed(s))\n",
        "print(rev)\n",
        "\n",
        "\n",
        "\n",
        "\n",
        "\n"
      ],
      "metadata": {
        "id": "PNQtLNB72tOO"
      },
      "execution_count": null,
      "outputs": []
    },
    {
      "cell_type": "code",
      "source": [
        "\n",
        "\n",
        "n = int(input(\"enter a number:\"))\n",
        "\n",
        "fact = 1\n",
        "\n",
        "while(n>=2) :\n",
        "      fact = fact*n\n",
        "      n-=1\n",
        "\n",
        "print(\"Factorial:\", fact)"
      ],
      "metadata": {
        "id": "h8pLSMVV4IhR"
      },
      "execution_count": null,
      "outputs": []
    }
  ]
}